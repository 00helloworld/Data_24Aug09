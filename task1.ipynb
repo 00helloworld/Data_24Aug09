{
 "cells": [
  {
   "cell_type": "code",
   "execution_count": 1,
   "metadata": {},
   "outputs": [],
   "source": [
    "import numpy as np\n",
    "from scipy.sparse import csr_matrix\n",
    "from scipy.sparse.linalg import norm\n",
    "import time"
   ]
  },
  {
   "cell_type": "markdown",
   "metadata": {},
   "source": [
    "# A"
   ]
  },
  {
   "cell_type": "code",
   "execution_count": 9,
   "metadata": {},
   "outputs": [],
   "source": [
    "# 构建稀疏矩阵\n",
    "def load_data(file_path):\n",
    "    edges = []\n",
    "    max_node = 0\n",
    "    with open(file_path, 'r') as f:\n",
    "        for line in f:\n",
    "            if not line.startswith('#'):\n",
    "                from_node, to_node = map(int, line.split())\n",
    "                edges.append((from_node, to_node))\n",
    "                max_node = max(max_node, from_node, to_node)\n",
    "    \n",
    "    return edges, max_node + 1  # Nodes从0开始，需要+1\n",
    "\n",
    "\n",
    "# 构建邻接矩阵\n",
    "def build_adjacency_matrix(edges, num_nodes):\n",
    "    data = np.ones(len(edges))\n",
    "    row_indices = [to_node for _, to_node in edges]\n",
    "    col_indices = [from_node for from_node, _ in edges]\n",
    "    \n",
    "    # 临街矩阵\n",
    "    M = csr_matrix((data, (row_indices, col_indices)), shape=(num_nodes, num_nodes))\n",
    "    \n",
    "    # 按列正则\n",
    "    M = M.multiply(1.0 / M.sum(axis=0).A.ravel())  \n",
    "    \n",
    "    return M\n",
    "\n",
    "\n",
    "\n",
    "# 初始化排序向量r\n",
    "def initialize_rank_vector(num_nodes):\n",
    "    return np.ones(num_nodes) / num_nodes\n",
    "\n",
    "\n",
    "\n",
    "# 幂迭代\n",
    "def power_iteration(M, r, epsilon=0.02, max_iterations=1000):\n",
    "    for i in range(max_iterations):\n",
    "        r_next = M @ r\n",
    "        # L1正则停止条件\n",
    "        if np.linalg.norm(r_next - r, 1) < epsilon:\n",
    "            print(f'Convergence reached after {i+1} iterations.')\n",
    "            return r_next, i + 1\n",
    "        r = r_next\n",
    "    print('Max iterations reached without convergence.')\n",
    "    return r, max_iterations\n",
    "\n",
    "\n",
    "\n",
    "# pagerank\n",
    "def run_pagerank(file_path):\n",
    "    start_time = time.time()\n",
    "\n",
    "    # 创建邻接矩阵\n",
    "    edges, num_nodes = load_data(file_path)\n",
    "    M = build_adjacency_matrix(edges, num_nodes)\n",
    "    \n",
    "    # 初始化r\n",
    "    r = initialize_rank_vector(num_nodes)\n",
    "    \n",
    "    # 幂迭代\n",
    "    r, iterations = power_iteration(M, r)\n",
    "    \n",
    "    # 输出结果\n",
    "    end_time = time.time()\n",
    "    print(f'1. Power iteration took {end_time - start_time:.4f} seconds.')\n",
    "    print(f'2. Total iterations: {iterations}')\n",
    "    \n",
    "    top_10_indices = np.argsort(-r)[:10]\n",
    "    print('3. Top 10 nodes by PageRank:')\n",
    "    for i in top_10_indices:\n",
    "        print(f'Node {i}: {r[i]}')"
   ]
  },
  {
   "cell_type": "markdown",
   "metadata": {},
   "source": [
    "# B"
   ]
  },
  {
   "cell_type": "code",
   "execution_count": 10,
   "metadata": {},
   "outputs": [
    {
     "name": "stderr",
     "output_type": "stream",
     "text": [
      "/var/folders/hk/p7fcnhm10z92trzs_9kwqlyr0000gn/T/ipykernel_95227/1593385530.py:25: RuntimeWarning: divide by zero encountered in divide\n",
      "  M = M.multiply(1.0 / M.sum(axis=0).A.ravel())\n"
     ]
    },
    {
     "name": "stdout",
     "output_type": "stream",
     "text": [
      "Convergence reached after 55 iterations.\n",
      "1. Power iteration took 4.1323 seconds.\n",
      "2. Total iterations: 55\n",
      "3. Top 10 nodes by PageRank:\n",
      "Node 747106: 0.0005645811748369119\n",
      "Node 544138: 0.0005514112530564973\n",
      "Node 370344: 0.0005514112530564973\n",
      "Node 24576: 0.0005514112530564973\n",
      "Node 839863: 0.00036945615282552003\n",
      "Node 587617: 0.00032679308247180366\n",
      "Node 671168: 0.0002905586674702682\n",
      "Node 791675: 0.0002563530919323209\n",
      "Node 873996: 0.00025340082283054126\n",
      "Node 627251: 0.00022162179167824168\n"
     ]
    }
   ],
   "source": [
    "run_pagerank('./files/web-Google.txt')"
   ]
  },
  {
   "cell_type": "code",
   "execution_count": null,
   "metadata": {},
   "outputs": [],
   "source": []
  }
 ],
 "metadata": {
  "kernelspec": {
   "display_name": "TBProject",
   "language": "python",
   "name": "python3"
  },
  "language_info": {
   "codemirror_mode": {
    "name": "ipython",
    "version": 3
   },
   "file_extension": ".py",
   "mimetype": "text/x-python",
   "name": "python",
   "nbconvert_exporter": "python",
   "pygments_lexer": "ipython3",
   "version": "3.11.7"
  }
 },
 "nbformat": 4,
 "nbformat_minor": 2
}
