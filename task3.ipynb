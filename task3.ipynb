{
 "cells": [
  {
   "cell_type": "code",
   "execution_count": 1,
   "metadata": {},
   "outputs": [],
   "source": [
    "import numpy as np\n",
    "from scipy.sparse import csr_matrix\n",
    "import time\n",
    "from task1 import load_data, build_adjacency_matrix, initialize_rank_vector"
   ]
  },
  {
   "cell_type": "markdown",
   "metadata": {},
   "source": [
    "# A"
   ]
  },
  {
   "cell_type": "code",
   "execution_count": 2,
   "metadata": {},
   "outputs": [],
   "source": [
    "# 幂迭代引入teleport\n",
    "def power_iteration_with_teleport(M, r, beta=0.9, epsilon=0.02, max_iterations=1000):\n",
    "    N = M.shape[0]\n",
    "    for i in range(max_iterations):\n",
    "        r_new = beta * (M @ r)\n",
    "        S = np.sum(r_new)  # 计算常数 S\n",
    "        r_new = r_new + (1 - S) / N\n",
    "        \n",
    "        if np.linalg.norm(r_new - r, 1) < epsilon:\n",
    "            print(f'Convergence reached after {i+1} iterations.')\n",
    "            return r_new, i + 1\n",
    "        r = r_new\n",
    "    \n",
    "    print('Max iterations reached without convergence.')\n",
    "    return r, max_iterations\n",
    "\n",
    "# 有teleport的pagerank\n",
    "def run_pagerank_with_teleport(file_path, beta=0.9):\n",
    "    start_time = time.time()\n",
    "\n",
    "    # 创建邻接矩阵\n",
    "    edges, num_nodes = load_data(file_path)\n",
    "    M = build_adjacency_matrix(edges, num_nodes)\n",
    "    \n",
    "    # 初始化r\n",
    "    r = initialize_rank_vector(num_nodes)\n",
    "    \n",
    "    # 幂迭代\n",
    "    r, iterations = power_iteration_with_teleport(M, r, beta=beta)\n",
    "    \n",
    "    # 输出结果\n",
    "    end_time = time.time()\n",
    "    print(f'1. Power iteration with teleport (beta={beta}) took {end_time - start_time:.4f} seconds.')\n",
    "    print(f'2. Total iterations: {iterations}')\n",
    "    \n",
    "    top_10_indices = np.argsort(-r)[:10]\n",
    "    print('3. Top 10 nodes by PageRank:')\n",
    "    for i in top_10_indices:\n",
    "        print(f'Node {i}: {r[i]}')"
   ]
  },
  {
   "cell_type": "markdown",
   "metadata": {},
   "source": [
    "# B"
   ]
  },
  {
   "cell_type": "code",
   "execution_count": 3,
   "metadata": {},
   "outputs": [
    {
     "name": "stderr",
     "output_type": "stream",
     "text": [
      "/Users/dongyanshen/Desktop/DYSProjects/TBProject/Data_24Aug09/task1.py:31: RuntimeWarning: divide by zero encountered in divide\n",
      "  M = M.multiply(1.0 / M.sum(axis=0).A.ravel())\n"
     ]
    },
    {
     "name": "stdout",
     "output_type": "stream",
     "text": [
      "Convergence reached after 10 iterations.\n",
      "1. Power iteration with teleport (beta=0.9) took 3.2090 seconds.\n",
      "2. Total iterations: 10\n",
      "3. Top 10 nodes by PageRank:\n",
      "Node 41909: 0.0009973925792044617\n",
      "Node 597621: 0.0009617858734126392\n",
      "Node 537039: 0.0009309087773594674\n",
      "Node 163075: 0.0009276278229025171\n",
      "Node 384666: 0.0008405381099265057\n",
      "Node 504140: 0.0008040232648104214\n",
      "Node 486980: 0.0007835867115217787\n",
      "Node 558791: 0.0007558965312384231\n",
      "Node 32163: 0.0007483086705224239\n",
      "Node 605856: 0.0007396882777888861\n"
     ]
    }
   ],
   "source": [
    "run_pagerank_with_teleport('./files/web-Google.txt', beta=0.9)"
   ]
  },
  {
   "cell_type": "markdown",
   "metadata": {},
   "source": [
    "# C"
   ]
  },
  {
   "cell_type": "code",
   "execution_count": 4,
   "metadata": {},
   "outputs": [],
   "source": [
    "# 变更beta值的rankpage结果\n",
    "def run_experiments_with_varied_beta(file_path):\n",
    "    betas = [1, 0.9, 0.8, 0.7, 0.6]\n",
    "    for beta in betas:\n",
    "        print(f'\\nRunning PageRank with beta={beta}')\n",
    "        run_pagerank_with_teleport(file_path, beta=beta)"
   ]
  },
  {
   "cell_type": "code",
   "execution_count": 5,
   "metadata": {},
   "outputs": [
    {
     "name": "stdout",
     "output_type": "stream",
     "text": [
      "\n",
      "Running PageRank with beta=1\n",
      "Convergence reached after 71 iterations.\n",
      "1. Power iteration with teleport (beta=1) took 4.1865 seconds.\n",
      "2. Total iterations: 71\n",
      "3. Top 10 nodes by PageRank:\n",
      "Node 747106: 0.0019277971519791322\n",
      "Node 24576: 0.0018571251736593044\n",
      "Node 370344: 0.0018571251736593044\n",
      "Node 544138: 0.0018571251736593044\n",
      "Node 587617: 0.00110888111627105\n",
      "Node 41909: 0.0010481563772640765\n",
      "Node 671168: 0.000986487646680377\n",
      "Node 905628: 0.000941147930745982\n",
      "Node 839863: 0.0009218593460345675\n",
      "Node 765334: 0.0009110469059826813\n",
      "\n",
      "Running PageRank with beta=0.9\n",
      "Convergence reached after 10 iterations.\n",
      "1. Power iteration with teleport (beta=0.9) took 2.8316 seconds.\n",
      "2. Total iterations: 10\n",
      "3. Top 10 nodes by PageRank:\n",
      "Node 41909: 0.0009973925792044617\n",
      "Node 597621: 0.0009617858734126392\n",
      "Node 537039: 0.0009309087773594674\n",
      "Node 163075: 0.0009276278229025171\n",
      "Node 384666: 0.0008405381099265057\n",
      "Node 504140: 0.0008040232648104214\n",
      "Node 486980: 0.0007835867115217787\n",
      "Node 558791: 0.0007558965312384231\n",
      "Node 32163: 0.0007483086705224239\n",
      "Node 605856: 0.0007396882777888861\n",
      "\n",
      "Running PageRank with beta=0.8\n",
      "Convergence reached after 7 iterations.\n",
      "1. Power iteration with teleport (beta=0.8) took 2.7496 seconds.\n",
      "2. Total iterations: 7\n",
      "3. Top 10 nodes by PageRank:\n",
      "Node 163075: 0.0008782475252410944\n",
      "Node 597621: 0.0008637660168181661\n",
      "Node 537039: 0.0008489335083837075\n",
      "Node 41909: 0.0008177881729565104\n",
      "Node 504140: 0.0007098315407153164\n",
      "Node 605856: 0.0007094279452704408\n",
      "Node 384666: 0.0007063900833246643\n",
      "Node 551829: 0.0007021520513727184\n",
      "Node 486980: 0.0006928899663083954\n",
      "Node 558791: 0.0006762777527428532\n",
      "\n",
      "Running PageRank with beta=0.7\n",
      "Convergence reached after 6 iterations.\n",
      "1. Power iteration with teleport (beta=0.7) took 2.6834 seconds.\n",
      "2. Total iterations: 6\n",
      "3. Top 10 nodes by PageRank:\n",
      "Node 163075: 0.0008051670796719877\n",
      "Node 597621: 0.0007668719386336835\n",
      "Node 537039: 0.0007619187935314223\n",
      "Node 41909: 0.0006792085402218542\n",
      "Node 605856: 0.0006486238952137799\n",
      "Node 551829: 0.0006373100728874114\n",
      "Node 504140: 0.0006219335584538932\n",
      "Node 384666: 0.000599172583715332\n",
      "Node 486980: 0.000593873768304586\n",
      "Node 558791: 0.0005911773795472857\n",
      "\n",
      "Running PageRank with beta=0.6\n",
      "Convergence reached after 5 iterations.\n",
      "1. Power iteration with teleport (beta=0.6) took 2.6380 seconds.\n",
      "2. Total iterations: 5\n",
      "3. Top 10 nodes by PageRank:\n",
      "Node 163075: 0.0007179829518726818\n",
      "Node 537039: 0.0006695779424484599\n",
      "Node 597621: 0.0006681958609066266\n",
      "Node 605856: 0.0005754420475511515\n",
      "Node 551829: 0.0005589740675123073\n",
      "Node 41909: 0.0005587813150469532\n",
      "Node 504140: 0.0005357528871068488\n",
      "Node 885605: 0.0005346436673108317\n",
      "Node 751384: 0.000516967890142147\n",
      "Node 558791: 0.0005073182364902199\n"
     ]
    }
   ],
   "source": [
    "run_experiments_with_varied_beta('./files/web-Google.txt')"
   ]
  },
  {
   "cell_type": "code",
   "execution_count": null,
   "metadata": {},
   "outputs": [],
   "source": []
  }
 ],
 "metadata": {
  "kernelspec": {
   "display_name": "TBProject",
   "language": "python",
   "name": "python3"
  },
  "language_info": {
   "codemirror_mode": {
    "name": "ipython",
    "version": 3
   },
   "file_extension": ".py",
   "mimetype": "text/x-python",
   "name": "python",
   "nbconvert_exporter": "python",
   "pygments_lexer": "ipython3",
   "version": "3.11.7"
  }
 },
 "nbformat": 4,
 "nbformat_minor": 2
}
